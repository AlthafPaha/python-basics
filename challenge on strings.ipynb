{
 "cells": [
  {
   "cell_type": "code",
   "execution_count": 1,
   "id": "1cc8e848",
   "metadata": {},
   "outputs": [],
   "source": [
    "s = \"this is my first python programming class and am learNING python string and its function\""
   ]
  },
  {
   "cell_type": "code",
   "execution_count": 2,
   "id": "a5bc3edd",
   "metadata": {},
   "outputs": [
    {
     "data": {
      "text/plain": [
       "'tssyityopgmncsa  aI tntna sutn'"
      ]
     },
     "execution_count": 2,
     "metadata": {},
     "output_type": "execute_result"
    }
   ],
   "source": [
    "# try to extract data from index one to index 300 with a jump of 3\n",
    "s[:300:3]"
   ]
  },
  {
   "cell_type": "code",
   "execution_count": 3,
   "id": "ac1873bd",
   "metadata": {},
   "outputs": [
    {
     "data": {
      "text/plain": [
       "'noitcnuf sti dna gnirts nohtyp GNINrael ma dna ssalc gnimmargorp nohtyp tsrif ym si siht'"
      ]
     },
     "execution_count": 3,
     "metadata": {},
     "output_type": "execute_result"
    }
   ],
   "source": [
    "#try to reverse a string without using reverse function\n",
    "s[::-1]"
   ]
  },
  {
   "cell_type": "code",
   "execution_count": 4,
   "id": "554631b4",
   "metadata": {},
   "outputs": [
    {
     "data": {
      "text/plain": [
       "'THIS IS MY FIRST PYTHON PROGRAMMING CLASS AND AM LEARNING PYTHON STRING AND ITS FUNCTION'"
      ]
     },
     "execution_count": 4,
     "metadata": {},
     "output_type": "execute_result"
    }
   ],
   "source": [
    "#try to convert the whole string in upper case\n",
    "s.upper()"
   ]
  },
  {
   "cell_type": "code",
   "execution_count": 6,
   "id": "181360d4",
   "metadata": {},
   "outputs": [
    {
     "data": {
      "text/plain": [
       "'this is my first python programming class and am learning python string and its function'"
      ]
     },
     "execution_count": 6,
     "metadata": {},
     "output_type": "execute_result"
    }
   ],
   "source": [
    "#convert the string into lower case\n",
    "s.lower()"
   ]
  },
  {
   "cell_type": "code",
   "execution_count": 7,
   "id": "e41d5f5a",
   "metadata": {},
   "outputs": [
    {
     "data": {
      "text/plain": [
       "'This is my first python programming class and am learning python string and its function'"
      ]
     },
     "execution_count": 7,
     "metadata": {},
     "output_type": "execute_result"
    }
   ],
   "source": [
    "#try to capitalize the whole thing\n",
    "s.capitalize()"
   ]
  },
  {
   "cell_type": "code",
   "execution_count": 8,
   "id": "f369b4b2",
   "metadata": {},
   "outputs": [
    {
     "data": {
      "text/plain": [
       "'welcome so Ineuron'"
      ]
     },
     "execution_count": 8,
     "metadata": {},
     "output_type": "execute_result"
    }
   ],
   "source": [
    "#replace a string charecter by another charecter by taking an example \n",
    "string = \"welcome to Ineuron\"\n",
    "string.replace('t','s')"
   ]
  },
  {
   "cell_type": "code",
   "execution_count": 9,
   "id": "f7851847",
   "metadata": {},
   "outputs": [
    {
     "data": {
      "text/plain": [
       "['THIS',\n",
       " 'IS',\n",
       " 'MY',\n",
       " 'FIRST',\n",
       " 'PYTHON',\n",
       " 'PROGRAMMING',\n",
       " 'CLASS',\n",
       " 'AND',\n",
       " 'AM',\n",
       " 'LEARNING',\n",
       " 'PYTHON',\n",
       " 'STRING',\n",
       " 'AND',\n",
       " 'ITS',\n",
       " 'FUNCTION']"
      ]
     },
     "execution_count": 9,
     "metadata": {},
     "output_type": "execute_result"
    }
   ],
   "source": [
    "#try to split a string after conveting the entire string into an upper case\n",
    "s = \"this is my first python programming class and am learNING python string and its function\"\n",
    "t = s.upper()\n",
    "t.split()"
   ]
  },
  {
   "cell_type": "code",
   "execution_count": 13,
   "id": "845476a3",
   "metadata": {},
   "outputs": [
    {
     "data": {
      "text/plain": [
       "True"
      ]
     },
     "execution_count": 13,
     "metadata": {},
     "output_type": "execute_result"
    }
   ],
   "source": [
    "# write a difference between isalnum() and isalpha()\n",
    "#isalnum() return true if the string is alpha numeric , otherwise false\n",
    "#isalpha() return true if the string is alphabetic , otherwise false\n",
    "\n",
    "#lets see an example for isalnum()\n",
    "s = \"911061school\"\n",
    "s.isalnum()"
   ]
  },
  {
   "cell_type": "code",
   "execution_count": 14,
   "id": "42367b01",
   "metadata": {},
   "outputs": [
    {
     "data": {
      "text/plain": [
       "True"
      ]
     },
     "execution_count": 14,
     "metadata": {},
     "output_type": "execute_result"
    }
   ],
   "source": [
    "#lets see an example for isalpha()\n",
    "s = \"ineuron\"\n",
    "s.isalpha()"
   ]
  },
  {
   "cell_type": "code",
   "execution_count": 15,
   "id": "5e189b2f",
   "metadata": {},
   "outputs": [
    {
     "data": {
      "text/plain": [
       "'welcome everyone'"
      ]
     },
     "execution_count": 15,
     "metadata": {},
     "output_type": "execute_result"
    }
   ],
   "source": [
    "#example of expand tab\n",
    "s = \"welcome\\teveryone\"\n",
    "s.expandtabs()"
   ]
  },
  {
   "cell_type": "code",
   "execution_count": 16,
   "id": "b5d58a89",
   "metadata": {},
   "outputs": [
    {
     "data": {
      "text/plain": [
       "'bangalore university'"
      ]
     },
     "execution_count": 16,
     "metadata": {},
     "output_type": "execute_result"
    }
   ],
   "source": [
    "#example of strip , lstrip , rstrip\n",
    "a = \"     bangalore university     \"\n",
    "#strip function deletes the space in the starting end at the end\n",
    "a.strip()"
   ]
  },
  {
   "cell_type": "code",
   "execution_count": 17,
   "id": "69f563a9",
   "metadata": {},
   "outputs": [
    {
     "data": {
      "text/plain": [
       "'bangalore university     '"
      ]
     },
     "execution_count": 17,
     "metadata": {},
     "output_type": "execute_result"
    }
   ],
   "source": [
    "#lstrip delete the space from left side of the string \n",
    "a.lstrip()"
   ]
  },
  {
   "cell_type": "code",
   "execution_count": 18,
   "id": "e5332bc0",
   "metadata": {},
   "outputs": [
    {
     "data": {
      "text/plain": [
       "'     bangalore university'"
      ]
     },
     "execution_count": 18,
     "metadata": {},
     "output_type": "execute_result"
    }
   ],
   "source": [
    "#rstrip delete the space at the end \n",
    "a.rstrip()"
   ]
  },
  {
   "cell_type": "code",
   "execution_count": 21,
   "id": "234052ab",
   "metadata": {},
   "outputs": [
    {
     "data": {
      "text/plain": [
       "'%%%%althaf pasha%%%%'"
      ]
     },
     "execution_count": 21,
     "metadata": {},
     "output_type": "execute_result"
    }
   ],
   "source": [
    "#definition of  a string centre function with ex\n",
    "# definition: centre() function Return a centered string of length width.\n",
    "\n",
    "s = 'althaf pasha'\n",
    "s.center(20,'%')\n"
   ]
  },
  {
   "cell_type": "code",
   "execution_count": null,
   "id": "034f139a",
   "metadata": {},
   "outputs": [],
   "source": []
  }
 ],
 "metadata": {
  "kernelspec": {
   "display_name": "Python 3 (ipykernel)",
   "language": "python",
   "name": "python3"
  },
  "language_info": {
   "codemirror_mode": {
    "name": "ipython",
    "version": 3
   },
   "file_extension": ".py",
   "mimetype": "text/x-python",
   "name": "python",
   "nbconvert_exporter": "python",
   "pygments_lexer": "ipython3",
   "version": "3.9.7"
  }
 },
 "nbformat": 4,
 "nbformat_minor": 5
}
